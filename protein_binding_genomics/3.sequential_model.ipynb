{
 "cells": [
  {
   "cell_type": "markdown",
   "metadata": {},
   "source": [
    "We ignored all the sequence in the previous step, included a naive summary statistic as a feature. Trained linear regression, obtained half of the state of the art on this dataset. Not a bad start, eh?\n",
    "\n",
    "Let's do something better, we want to capture the sequential statistics."
   ]
  },
  {
   "cell_type": "code",
   "execution_count": 2,
   "metadata": {
    "collapsed": false
   },
   "outputs": [],
   "source": [
    "import numpy as np\n",
    "import pandas as pd\n",
    "import matplotlib.pyplot as plt\n",
    "%matplotlib inline\n",
    "plt.style.use('ggplot')\n",
    "# import seaborn as sns\n",
    "plt.rcParams['figure.figsize'] = 15, 12"
   ]
  },
  {
   "cell_type": "code",
   "execution_count": 3,
   "metadata": {
    "collapsed": true
   },
   "outputs": [],
   "source": [
    "d = pd.read_csv('data/DREAM5_PBM_Data_TrainingSet.txt', sep='\\t')"
   ]
  },
  {
   "cell_type": "code",
   "execution_count": 4,
   "metadata": {
    "collapsed": false
   },
   "outputs": [
    {
     "data": {
      "text/html": [
       "<div>\n",
       "<table border=\"1\" class=\"dataframe\">\n",
       "  <thead>\n",
       "    <tr style=\"text-align: right;\">\n",
       "      <th></th>\n",
       "      <th>TF_Id</th>\n",
       "      <th>ArrayType</th>\n",
       "      <th>Sequence</th>\n",
       "      <th>Signal_Mean</th>\n",
       "      <th>Background_Mean</th>\n",
       "      <th>Signal_Median</th>\n",
       "      <th>Background_Median</th>\n",
       "      <th>Signal_Std</th>\n",
       "      <th>Background_Std</th>\n",
       "      <th>Flag</th>\n",
       "    </tr>\n",
       "  </thead>\n",
       "  <tbody>\n",
       "    <tr>\n",
       "      <th>0</th>\n",
       "      <td>Cebpb</td>\n",
       "      <td>HK</td>\n",
       "      <td>AAAAAACAACAGGAGGGCATCATGGAGCTGTCCAGCCTGTGTGAAA...</td>\n",
       "      <td>1508.7972</td>\n",
       "      <td>264.8014</td>\n",
       "      <td>1557.5</td>\n",
       "      <td>183.0</td>\n",
       "      <td>393.2445</td>\n",
       "      <td>249.7754</td>\n",
       "      <td>0</td>\n",
       "    </tr>\n",
       "    <tr>\n",
       "      <th>1</th>\n",
       "      <td>Cebpb</td>\n",
       "      <td>HK</td>\n",
       "      <td>AAAAAACAGCCGGATCACAATTTTGCCGAGAGCGACCTGTGTGAAA...</td>\n",
       "      <td>13630.7324</td>\n",
       "      <td>371.0260</td>\n",
       "      <td>14858.0</td>\n",
       "      <td>245.0</td>\n",
       "      <td>6451.2436</td>\n",
       "      <td>445.4670</td>\n",
       "      <td>0</td>\n",
       "    </tr>\n",
       "    <tr>\n",
       "      <th>2</th>\n",
       "      <td>Cebpb</td>\n",
       "      <td>HK</td>\n",
       "      <td>AAAAAACGTCCGGTACACCCCGTTCGGCGGCCCAGCCTGTGTGAAA...</td>\n",
       "      <td>1523.0000</td>\n",
       "      <td>265.7928</td>\n",
       "      <td>1571.5</td>\n",
       "      <td>194.5</td>\n",
       "      <td>439.6682</td>\n",
       "      <td>211.7982</td>\n",
       "      <td>0</td>\n",
       "    </tr>\n",
       "    <tr>\n",
       "      <th>3</th>\n",
       "      <td>Cebpb</td>\n",
       "      <td>HK</td>\n",
       "      <td>AAAAAACTCTAGACCTTTAGCCCATCGTTGGCCAACCTGTGTGAAA...</td>\n",
       "      <td>4992.8461</td>\n",
       "      <td>430.4496</td>\n",
       "      <td>5150.0</td>\n",
       "      <td>233.0</td>\n",
       "      <td>1629.2899</td>\n",
       "      <td>507.5433</td>\n",
       "      <td>0</td>\n",
       "    </tr>\n",
       "    <tr>\n",
       "      <th>4</th>\n",
       "      <td>Cebpb</td>\n",
       "      <td>HK</td>\n",
       "      <td>AAAAAAGAACAACCGGATAACACCCTTACAGCACACCTGTGTGAAA...</td>\n",
       "      <td>3539.8117</td>\n",
       "      <td>449.4453</td>\n",
       "      <td>3823.5</td>\n",
       "      <td>226.5</td>\n",
       "      <td>1063.9028</td>\n",
       "      <td>551.7675</td>\n",
       "      <td>0</td>\n",
       "    </tr>\n",
       "  </tbody>\n",
       "</table>\n",
       "</div>"
      ],
      "text/plain": [
       "   TF_Id ArrayType                                           Sequence  \\\n",
       "0  Cebpb        HK  AAAAAACAACAGGAGGGCATCATGGAGCTGTCCAGCCTGTGTGAAA...   \n",
       "1  Cebpb        HK  AAAAAACAGCCGGATCACAATTTTGCCGAGAGCGACCTGTGTGAAA...   \n",
       "2  Cebpb        HK  AAAAAACGTCCGGTACACCCCGTTCGGCGGCCCAGCCTGTGTGAAA...   \n",
       "3  Cebpb        HK  AAAAAACTCTAGACCTTTAGCCCATCGTTGGCCAACCTGTGTGAAA...   \n",
       "4  Cebpb        HK  AAAAAAGAACAACCGGATAACACCCTTACAGCACACCTGTGTGAAA...   \n",
       "\n",
       "   Signal_Mean  Background_Mean  Signal_Median  Background_Median  Signal_Std  \\\n",
       "0    1508.7972         264.8014         1557.5              183.0    393.2445   \n",
       "1   13630.7324         371.0260        14858.0              245.0   6451.2436   \n",
       "2    1523.0000         265.7928         1571.5              194.5    439.6682   \n",
       "3    4992.8461         430.4496         5150.0              233.0   1629.2899   \n",
       "4    3539.8117         449.4453         3823.5              226.5   1063.9028   \n",
       "\n",
       "   Background_Std  Flag  \n",
       "0        249.7754     0  \n",
       "1        445.4670     0  \n",
       "2        211.7982     0  \n",
       "3        507.5433     0  \n",
       "4        551.7675     0  "
      ]
     },
     "execution_count": 4,
     "metadata": {},
     "output_type": "execute_result"
    }
   ],
   "source": [
    "d.head()"
   ]
  },
  {
   "cell_type": "code",
   "execution_count": 8,
   "metadata": {
    "collapsed": true
   },
   "outputs": [],
   "source": [
    "import torch\n",
    "import torch.nn as nn\n",
    "import torch.functional as F\n",
    "from torch.autograd import Variable"
   ]
  },
  {
   "cell_type": "code",
   "execution_count": null,
   "metadata": {
    "collapsed": true
   },
   "outputs": [],
   "source": [
    "# no gpu@ system change!"
   ]
  }
 ],
 "metadata": {
  "kernelspec": {
   "display_name": "Python 2",
   "language": "python",
   "name": "python2"
  },
  "language_info": {
   "codemirror_mode": {
    "name": "ipython",
    "version": 2
   },
   "file_extension": ".py",
   "mimetype": "text/x-python",
   "name": "python",
   "nbconvert_exporter": "python",
   "pygments_lexer": "ipython2",
   "version": "2.7.13"
  }
 },
 "nbformat": 4,
 "nbformat_minor": 2
}
