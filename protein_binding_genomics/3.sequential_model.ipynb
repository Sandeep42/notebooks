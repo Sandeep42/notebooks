{
 "cells": [
  {
   "cell_type": "markdown",
   "metadata": {
    "deletable": true,
    "editable": true
   },
   "source": [
    "We ignored all the sequence in the previous step, included a naive summary statistic as a feature. Trained linear regression, obtained half of the state of the art on this dataset. Not a bad start, eh?\n",
    "\n",
    "Let's do something better, we want to capture the sequential statistics."
   ]
  },
  {
   "cell_type": "code",
   "execution_count": 1,
   "metadata": {
    "collapsed": false,
    "deletable": true,
    "editable": true
   },
   "outputs": [],
   "source": [
    "import numpy as np\n",
    "import pandas as pd\n",
    "import matplotlib.pyplot as plt\n",
    "%matplotlib inline\n",
    "plt.style.use('ggplot')\n",
    "# import seaborn as sns\n",
    "plt.rcParams['figure.figsize'] = 15, 12"
   ]
  },
  {
   "cell_type": "code",
   "execution_count": 2,
   "metadata": {
    "collapsed": true,
    "deletable": true,
    "editable": true
   },
   "outputs": [],
   "source": [
    "d = pd.read_csv('data/DREAM5_PBM_Data_TrainingSet.txt', sep='\\t')"
   ]
  },
  {
   "cell_type": "code",
   "execution_count": 3,
   "metadata": {
    "collapsed": false,
    "deletable": true,
    "editable": true
   },
   "outputs": [
    {
     "data": {
      "text/html": [
       "<div>\n",
       "<table border=\"1\" class=\"dataframe\">\n",
       "  <thead>\n",
       "    <tr style=\"text-align: right;\">\n",
       "      <th></th>\n",
       "      <th>TF_Id</th>\n",
       "      <th>ArrayType</th>\n",
       "      <th>Sequence</th>\n",
       "      <th>Signal_Mean</th>\n",
       "      <th>Background_Mean</th>\n",
       "      <th>Signal_Median</th>\n",
       "      <th>Background_Median</th>\n",
       "      <th>Signal_Std</th>\n",
       "      <th>Background_Std</th>\n",
       "      <th>Flag</th>\n",
       "    </tr>\n",
       "  </thead>\n",
       "  <tbody>\n",
       "    <tr>\n",
       "      <th>0</th>\n",
       "      <td>Cebpb</td>\n",
       "      <td>HK</td>\n",
       "      <td>AAAAAACAACAGGAGGGCATCATGGAGCTGTCCAGCCTGTGTGAAA...</td>\n",
       "      <td>1508.7972</td>\n",
       "      <td>264.8014</td>\n",
       "      <td>1557.5</td>\n",
       "      <td>183.0</td>\n",
       "      <td>393.2445</td>\n",
       "      <td>249.7754</td>\n",
       "      <td>0</td>\n",
       "    </tr>\n",
       "    <tr>\n",
       "      <th>1</th>\n",
       "      <td>Cebpb</td>\n",
       "      <td>HK</td>\n",
       "      <td>AAAAAACAGCCGGATCACAATTTTGCCGAGAGCGACCTGTGTGAAA...</td>\n",
       "      <td>13630.7324</td>\n",
       "      <td>371.0260</td>\n",
       "      <td>14858.0</td>\n",
       "      <td>245.0</td>\n",
       "      <td>6451.2436</td>\n",
       "      <td>445.4670</td>\n",
       "      <td>0</td>\n",
       "    </tr>\n",
       "    <tr>\n",
       "      <th>2</th>\n",
       "      <td>Cebpb</td>\n",
       "      <td>HK</td>\n",
       "      <td>AAAAAACGTCCGGTACACCCCGTTCGGCGGCCCAGCCTGTGTGAAA...</td>\n",
       "      <td>1523.0000</td>\n",
       "      <td>265.7928</td>\n",
       "      <td>1571.5</td>\n",
       "      <td>194.5</td>\n",
       "      <td>439.6682</td>\n",
       "      <td>211.7982</td>\n",
       "      <td>0</td>\n",
       "    </tr>\n",
       "    <tr>\n",
       "      <th>3</th>\n",
       "      <td>Cebpb</td>\n",
       "      <td>HK</td>\n",
       "      <td>AAAAAACTCTAGACCTTTAGCCCATCGTTGGCCAACCTGTGTGAAA...</td>\n",
       "      <td>4992.8461</td>\n",
       "      <td>430.4496</td>\n",
       "      <td>5150.0</td>\n",
       "      <td>233.0</td>\n",
       "      <td>1629.2899</td>\n",
       "      <td>507.5433</td>\n",
       "      <td>0</td>\n",
       "    </tr>\n",
       "    <tr>\n",
       "      <th>4</th>\n",
       "      <td>Cebpb</td>\n",
       "      <td>HK</td>\n",
       "      <td>AAAAAAGAACAACCGGATAACACCCTTACAGCACACCTGTGTGAAA...</td>\n",
       "      <td>3539.8117</td>\n",
       "      <td>449.4453</td>\n",
       "      <td>3823.5</td>\n",
       "      <td>226.5</td>\n",
       "      <td>1063.9028</td>\n",
       "      <td>551.7675</td>\n",
       "      <td>0</td>\n",
       "    </tr>\n",
       "  </tbody>\n",
       "</table>\n",
       "</div>"
      ],
      "text/plain": [
       "   TF_Id ArrayType                                           Sequence  \\\n",
       "0  Cebpb        HK  AAAAAACAACAGGAGGGCATCATGGAGCTGTCCAGCCTGTGTGAAA...   \n",
       "1  Cebpb        HK  AAAAAACAGCCGGATCACAATTTTGCCGAGAGCGACCTGTGTGAAA...   \n",
       "2  Cebpb        HK  AAAAAACGTCCGGTACACCCCGTTCGGCGGCCCAGCCTGTGTGAAA...   \n",
       "3  Cebpb        HK  AAAAAACTCTAGACCTTTAGCCCATCGTTGGCCAACCTGTGTGAAA...   \n",
       "4  Cebpb        HK  AAAAAAGAACAACCGGATAACACCCTTACAGCACACCTGTGTGAAA...   \n",
       "\n",
       "   Signal_Mean  Background_Mean  Signal_Median  Background_Median  Signal_Std  \\\n",
       "0    1508.7972         264.8014         1557.5              183.0    393.2445   \n",
       "1   13630.7324         371.0260        14858.0              245.0   6451.2436   \n",
       "2    1523.0000         265.7928         1571.5              194.5    439.6682   \n",
       "3    4992.8461         430.4496         5150.0              233.0   1629.2899   \n",
       "4    3539.8117         449.4453         3823.5              226.5   1063.9028   \n",
       "\n",
       "   Background_Std  Flag  \n",
       "0        249.7754     0  \n",
       "1        445.4670     0  \n",
       "2        211.7982     0  \n",
       "3        507.5433     0  \n",
       "4        551.7675     0  "
      ]
     },
     "execution_count": 3,
     "metadata": {},
     "output_type": "execute_result"
    }
   ],
   "source": [
    "d.head()"
   ]
  },
  {
   "cell_type": "code",
   "execution_count": 4,
   "metadata": {
    "collapsed": true,
    "deletable": true,
    "editable": true
   },
   "outputs": [],
   "source": [
    "import torch\n",
    "import torch.nn as nn\n",
    "import torch.functional as F\n",
    "from torch.autograd import Variable"
   ]
  },
  {
   "cell_type": "code",
   "execution_count": null,
   "metadata": {
    "collapsed": true,
    "deletable": true,
    "editable": true
   },
   "outputs": [],
   "source": [
    "# no gpu@ system change!"
   ]
  },
  {
   "cell_type": "markdown",
   "metadata": {},
   "source": [
    "I glanced some of the research papers that were published using this data, I think I got the problem statement wrong. For each individual TF, we have to train a separate model predicting the signal mean."
   ]
  },
  {
   "cell_type": "code",
   "execution_count": 7,
   "metadata": {
    "collapsed": false
   },
   "outputs": [],
   "source": [
    "# d.ArrayType.value_counts()"
   ]
  },
  {
   "cell_type": "code",
   "execution_count": 5,
   "metadata": {
    "collapsed": false,
    "deletable": true,
    "editable": true
   },
   "outputs": [
    {
     "data": {
      "text/plain": [
       "Irf2       80856\n",
       "Mecp2      80856\n",
       "Sp1        80856\n",
       "Pou3f1     80856\n",
       "Tbx3       80856\n",
       "Cebpb      80856\n",
       "Esr1       80856\n",
       "Zscan20    80856\n",
       "Foxp2      80856\n",
       "Foxp1      80856\n",
       "Foxo3      80856\n",
       "Foxo1      80856\n",
       "Foxo4      80856\n",
       "Tcf3       80856\n",
       "Nr2c1      80856\n",
       "Foxj2      80856\n",
       "Egr2       80856\n",
       "Gmeb2      80856\n",
       "Junb       80856\n",
       "Sox14      80856\n",
       "Name: TF_Id, dtype: int64"
      ]
     },
     "execution_count": 5,
     "metadata": {},
     "output_type": "execute_result"
    }
   ],
   "source": [
    "d.TF_Id.value_counts()"
   ]
  },
  {
   "cell_type": "markdown",
   "metadata": {
    "collapsed": true,
    "deletable": true,
    "editable": true
   },
   "source": [
    "I am selecting Sox14 for now."
   ]
  },
  {
   "cell_type": "code",
   "execution_count": 8,
   "metadata": {
    "collapsed": true,
    "deletable": true,
    "editable": true
   },
   "outputs": [],
   "source": [
    "d = d[d.TF_Id == 'Sox14']"
   ]
  },
  {
   "cell_type": "code",
   "execution_count": 12,
   "metadata": {
    "collapsed": false,
    "deletable": true,
    "editable": true
   },
   "outputs": [
    {
     "data": {
      "text/plain": [
       "ME    40526\n",
       "HK    40330\n",
       "Name: ArrayType, dtype: int64"
      ]
     },
     "execution_count": 12,
     "metadata": {},
     "output_type": "execute_result"
    }
   ],
   "source": [
    "d.ArrayType.value_counts()"
   ]
  },
  {
   "cell_type": "code",
   "execution_count": 13,
   "metadata": {
    "collapsed": false,
    "deletable": true,
    "editable": true
   },
   "outputs": [
    {
     "data": {
      "text/html": [
       "<div>\n",
       "<table border=\"1\" class=\"dataframe\">\n",
       "  <thead>\n",
       "    <tr style=\"text-align: right;\">\n",
       "      <th></th>\n",
       "      <th>TF_Id</th>\n",
       "      <th>ArrayType</th>\n",
       "      <th>Sequence</th>\n",
       "      <th>Signal_Mean</th>\n",
       "      <th>Background_Mean</th>\n",
       "      <th>Signal_Median</th>\n",
       "      <th>Background_Median</th>\n",
       "      <th>Signal_Std</th>\n",
       "      <th>Background_Std</th>\n",
       "      <th>Flag</th>\n",
       "    </tr>\n",
       "  </thead>\n",
       "  <tbody>\n",
       "    <tr>\n",
       "      <th>1212840</th>\n",
       "      <td>Sox14</td>\n",
       "      <td>HK</td>\n",
       "      <td>AAAAAACAACAGGAGGGCATCATGGAGCTGTCCAGCCTGTGTGAAA...</td>\n",
       "      <td>4689.7988</td>\n",
       "      <td>728.5694</td>\n",
       "      <td>5097.0</td>\n",
       "      <td>421.5</td>\n",
       "      <td>1215.5156</td>\n",
       "      <td>795.3395</td>\n",
       "      <td>0</td>\n",
       "    </tr>\n",
       "    <tr>\n",
       "      <th>1212841</th>\n",
       "      <td>Sox14</td>\n",
       "      <td>HK</td>\n",
       "      <td>AAAAAACAGCCGGATCACAATTTTGCCGAGAGCGACCTGTGTGAAA...</td>\n",
       "      <td>7601.9057</td>\n",
       "      <td>1117.3750</td>\n",
       "      <td>8022.0</td>\n",
       "      <td>446.5</td>\n",
       "      <td>1220.7102</td>\n",
       "      <td>1297.0731</td>\n",
       "      <td>0</td>\n",
       "    </tr>\n",
       "    <tr>\n",
       "      <th>1212842</th>\n",
       "      <td>Sox14</td>\n",
       "      <td>HK</td>\n",
       "      <td>AAAAAACGTCCGGTACACCCCGTTCGGCGGCCCAGCCTGTGTGAAA...</td>\n",
       "      <td>3450.9868</td>\n",
       "      <td>460.4931</td>\n",
       "      <td>3810.5</td>\n",
       "      <td>264.5</td>\n",
       "      <td>980.1734</td>\n",
       "      <td>522.8422</td>\n",
       "      <td>0</td>\n",
       "    </tr>\n",
       "    <tr>\n",
       "      <th>1212843</th>\n",
       "      <td>Sox14</td>\n",
       "      <td>HK</td>\n",
       "      <td>AAAAAACTCTAGACCTTTAGCCCATCGTTGGCCAACCTGTGTGAAA...</td>\n",
       "      <td>6405.0585</td>\n",
       "      <td>852.9558</td>\n",
       "      <td>6765.0</td>\n",
       "      <td>354.0</td>\n",
       "      <td>1394.2091</td>\n",
       "      <td>1071.4765</td>\n",
       "      <td>0</td>\n",
       "    </tr>\n",
       "    <tr>\n",
       "      <th>1212844</th>\n",
       "      <td>Sox14</td>\n",
       "      <td>HK</td>\n",
       "      <td>AAAAAAGAACAACCGGATAACACCCTTACAGCACACCTGTGTGAAA...</td>\n",
       "      <td>7719.7729</td>\n",
       "      <td>631.4874</td>\n",
       "      <td>8300.0</td>\n",
       "      <td>288.5</td>\n",
       "      <td>2351.0661</td>\n",
       "      <td>923.0020</td>\n",
       "      <td>0</td>\n",
       "    </tr>\n",
       "  </tbody>\n",
       "</table>\n",
       "</div>"
      ],
      "text/plain": [
       "         TF_Id ArrayType                                           Sequence  \\\n",
       "1212840  Sox14        HK  AAAAAACAACAGGAGGGCATCATGGAGCTGTCCAGCCTGTGTGAAA...   \n",
       "1212841  Sox14        HK  AAAAAACAGCCGGATCACAATTTTGCCGAGAGCGACCTGTGTGAAA...   \n",
       "1212842  Sox14        HK  AAAAAACGTCCGGTACACCCCGTTCGGCGGCCCAGCCTGTGTGAAA...   \n",
       "1212843  Sox14        HK  AAAAAACTCTAGACCTTTAGCCCATCGTTGGCCAACCTGTGTGAAA...   \n",
       "1212844  Sox14        HK  AAAAAAGAACAACCGGATAACACCCTTACAGCACACCTGTGTGAAA...   \n",
       "\n",
       "         Signal_Mean  Background_Mean  Signal_Median  Background_Median  \\\n",
       "1212840    4689.7988         728.5694         5097.0              421.5   \n",
       "1212841    7601.9057        1117.3750         8022.0              446.5   \n",
       "1212842    3450.9868         460.4931         3810.5              264.5   \n",
       "1212843    6405.0585         852.9558         6765.0              354.0   \n",
       "1212844    7719.7729         631.4874         8300.0              288.5   \n",
       "\n",
       "         Signal_Std  Background_Std  Flag  \n",
       "1212840   1215.5156        795.3395     0  \n",
       "1212841   1220.7102       1297.0731     0  \n",
       "1212842    980.1734        522.8422     0  \n",
       "1212843   1394.2091       1071.4765     0  \n",
       "1212844   2351.0661        923.0020     0  "
      ]
     },
     "execution_count": 13,
     "metadata": {},
     "output_type": "execute_result"
    }
   ],
   "source": [
    "d.head()"
   ]
  },
  {
   "cell_type": "markdown",
   "metadata": {
    "collapsed": true,
    "deletable": true,
    "editable": true
   },
   "source": [
    "I am using 'HK' array type for training the model, and 'ME' for validating the model."
   ]
  },
  {
   "cell_type": "code",
   "execution_count": 14,
   "metadata": {
    "collapsed": true,
    "deletable": true,
    "editable": true
   },
   "outputs": [],
   "source": [
    "train = d[d.ArrayType == 'HK']\n",
    "test = d[d.ArrayType == 'ME']"
   ]
  },
  {
   "cell_type": "markdown",
   "metadata": {},
   "source": [
    "Creating a validation set out of the test set with 50% split."
   ]
  },
  {
   "cell_type": "code",
   "execution_count": 15,
   "metadata": {
    "collapsed": true,
    "deletable": true,
    "editable": true
   },
   "outputs": [],
   "source": [
    "from sklearn.model_selection import train_test_split"
   ]
  },
  {
   "cell_type": "code",
   "execution_count": 16,
   "metadata": {
    "collapsed": true,
    "deletable": true,
    "editable": true
   },
   "outputs": [],
   "source": [
    "test, val = train_test_split(test, test_size= 0.5)"
   ]
  },
  {
   "cell_type": "code",
   "execution_count": 17,
   "metadata": {
    "collapsed": false,
    "deletable": true,
    "editable": true
   },
   "outputs": [
    {
     "data": {
      "text/plain": [
       "(20263, 10)"
      ]
     },
     "execution_count": 17,
     "metadata": {},
     "output_type": "execute_result"
    }
   ],
   "source": [
    "test.shape"
   ]
  },
  {
   "cell_type": "code",
   "execution_count": 18,
   "metadata": {
    "collapsed": false,
    "deletable": true,
    "editable": true
   },
   "outputs": [
    {
     "data": {
      "text/plain": [
       "(20263, 10)"
      ]
     },
     "execution_count": 18,
     "metadata": {},
     "output_type": "execute_result"
    }
   ],
   "source": [
    "val.shape"
   ]
  },
  {
   "cell_type": "code",
   "execution_count": 20,
   "metadata": {
    "collapsed": false
   },
   "outputs": [
    {
     "data": {
      "text/plain": [
       "<matplotlib.axes._subplots.AxesSubplot at 0x7f07ae068410>"
      ]
     },
     "execution_count": 20,
     "metadata": {},
     "output_type": "execute_result"
    },
    {
     "data": {
      "image/png": "[encoded data removed]",
      "text/plain": [
       "<matplotlib.figure.Figure at 0x7f07ae0792d0>"
      ]
     },
     "metadata": {},
     "output_type": "display_data"
    }
   ],
   "source": [
    "d.Signal_Mean.plot(kind='density')"
   ]
  },
  {
   "cell_type": "code",
   "execution_count": 19,
   "metadata": {
    "collapsed": false,
    "deletable": true,
    "editable": true
   },
   "outputs": [
    {
     "data": {
      "text/plain": [
       "<matplotlib.axes._subplots.AxesSubplot at 0x7f07b140a290>"
      ]
     },
     "execution_count": 19,
     "metadata": {},
     "output_type": "execute_result"
    },
    {
     "data": {
      "image/png": "[encoded data removed]",
      "text/plain": [
       "<matplotlib.figure.Figure at 0x7f07b13f5d50>"
      ]
     },
     "metadata": {},
     "output_type": "display_data"
    }
   ],
   "source": [
    "d.Signal_Median.plot(kind='density')"
   ]
  },
  {
   "cell_type": "code",
   "execution_count": 21,
   "metadata": {
    "collapsed": false
   },
   "outputs": [
    {
     "data": {
      "text/html": [
       "<div>\n",
       "<table border=\"1\" class=\"dataframe\">\n",
       "  <thead>\n",
       "    <tr style=\"text-align: right;\">\n",
       "      <th></th>\n",
       "      <th>TF_Id</th>\n",
       "      <th>ArrayType</th>\n",
       "      <th>Sequence</th>\n",
       "      <th>Signal_Mean</th>\n",
       "      <th>Background_Mean</th>\n",
       "      <th>Signal_Median</th>\n",
       "      <th>Background_Median</th>\n",
       "      <th>Signal_Std</th>\n",
       "      <th>Background_Std</th>\n",
       "      <th>Flag</th>\n",
       "    </tr>\n",
       "  </thead>\n",
       "  <tbody>\n",
       "    <tr>\n",
       "      <th>1212840</th>\n",
       "      <td>Sox14</td>\n",
       "      <td>HK</td>\n",
       "      <td>AAAAAACAACAGGAGGGCATCATGGAGCTGTCCAGCCTGTGTGAAA...</td>\n",
       "      <td>4689.7988</td>\n",
       "      <td>728.5694</td>\n",
       "      <td>5097.0</td>\n",
       "      <td>421.5</td>\n",
       "      <td>1215.5156</td>\n",
       "      <td>795.3395</td>\n",
       "      <td>0</td>\n",
       "    </tr>\n",
       "    <tr>\n",
       "      <th>1212841</th>\n",
       "      <td>Sox14</td>\n",
       "      <td>HK</td>\n",
       "      <td>AAAAAACAGCCGGATCACAATTTTGCCGAGAGCGACCTGTGTGAAA...</td>\n",
       "      <td>7601.9057</td>\n",
       "      <td>1117.3750</td>\n",
       "      <td>8022.0</td>\n",
       "      <td>446.5</td>\n",
       "      <td>1220.7102</td>\n",
       "      <td>1297.0731</td>\n",
       "      <td>0</td>\n",
       "    </tr>\n",
       "    <tr>\n",
       "      <th>1212842</th>\n",
       "      <td>Sox14</td>\n",
       "      <td>HK</td>\n",
       "      <td>AAAAAACGTCCGGTACACCCCGTTCGGCGGCCCAGCCTGTGTGAAA...</td>\n",
       "      <td>3450.9868</td>\n",
       "      <td>460.4931</td>\n",
       "      <td>3810.5</td>\n",
       "      <td>264.5</td>\n",
       "      <td>980.1734</td>\n",
       "      <td>522.8422</td>\n",
       "      <td>0</td>\n",
       "    </tr>\n",
       "    <tr>\n",
       "      <th>1212843</th>\n",
       "      <td>Sox14</td>\n",
       "      <td>HK</td>\n",
       "      <td>AAAAAACTCTAGACCTTTAGCCCATCGTTGGCCAACCTGTGTGAAA...</td>\n",
       "      <td>6405.0585</td>\n",
       "      <td>852.9558</td>\n",
       "      <td>6765.0</td>\n",
       "      <td>354.0</td>\n",
       "      <td>1394.2091</td>\n",
       "      <td>1071.4765</td>\n",
       "      <td>0</td>\n",
       "    </tr>\n",
       "    <tr>\n",
       "      <th>1212844</th>\n",
       "      <td>Sox14</td>\n",
       "      <td>HK</td>\n",
       "      <td>AAAAAAGAACAACCGGATAACACCCTTACAGCACACCTGTGTGAAA...</td>\n",
       "      <td>7719.7729</td>\n",
       "      <td>631.4874</td>\n",
       "      <td>8300.0</td>\n",
       "      <td>288.5</td>\n",
       "      <td>2351.0661</td>\n",
       "      <td>923.0020</td>\n",
       "      <td>0</td>\n",
       "    </tr>\n",
       "  </tbody>\n",
       "</table>\n",
       "</div>"
      ],
      "text/plain": [
       "         TF_Id ArrayType                                           Sequence  \\\n",
       "1212840  Sox14        HK  AAAAAACAACAGGAGGGCATCATGGAGCTGTCCAGCCTGTGTGAAA...   \n",
       "1212841  Sox14        HK  AAAAAACAGCCGGATCACAATTTTGCCGAGAGCGACCTGTGTGAAA...   \n",
       "1212842  Sox14        HK  AAAAAACGTCCGGTACACCCCGTTCGGCGGCCCAGCCTGTGTGAAA...   \n",
       "1212843  Sox14        HK  AAAAAACTCTAGACCTTTAGCCCATCGTTGGCCAACCTGTGTGAAA...   \n",
       "1212844  Sox14        HK  AAAAAAGAACAACCGGATAACACCCTTACAGCACACCTGTGTGAAA...   \n",
       "\n",
       "         Signal_Mean  Background_Mean  Signal_Median  Background_Median  \\\n",
       "1212840    4689.7988         728.5694         5097.0              421.5   \n",
       "1212841    7601.9057        1117.3750         8022.0              446.5   \n",
       "1212842    3450.9868         460.4931         3810.5              264.5   \n",
       "1212843    6405.0585         852.9558         6765.0              354.0   \n",
       "1212844    7719.7729         631.4874         8300.0              288.5   \n",
       "\n",
       "         Signal_Std  Background_Std  Flag  \n",
       "1212840   1215.5156        795.3395     0  \n",
       "1212841   1220.7102       1297.0731     0  \n",
       "1212842    980.1734        522.8422     0  \n",
       "1212843   1394.2091       1071.4765     0  \n",
       "1212844   2351.0661        923.0020     0  "
      ]
     },
     "execution_count": 21,
     "metadata": {},
     "output_type": "execute_result"
    }
   ],
   "source": [
    "train.head()"
   ]
  },
  {
   "cell_type": "code",
   "execution_count": 26,
   "metadata": {
    "collapsed": false
   },
   "outputs": [],
   "source": [
    "# train.Sequence.str.len()"
   ]
  },
  {
   "cell_type": "markdown",
   "metadata": {},
   "source": [
    "## Sequential Model- Character level RNN"
   ]
  },
  {
   "cell_type": "code",
   "execution_count": 48,
   "metadata": {
    "collapsed": true
   },
   "outputs": [],
   "source": [
    "class CharRNN(nn.Module):\n",
    "    \n",
    "    def __init__(self, batch_size, num_tokens, embed_size, gru_hidden_size):\n",
    "        \n",
    "        super(CharRNN, self).__init__()\n",
    "        \n",
    "        self.num_tokens = num_tokens\n",
    "        self.embed_size = embed_size\n",
    "        self.gru_hidden_size = gru_hidden_size\n",
    "        self.batch_size = batch_size\n",
    "        \n",
    "        self.look_up = nn.Embedding(num_tokens, embed_size)\n",
    "        self.char_gru = nn.GRU(embed_size, gru_hidden_size, bidirectional= True)\n",
    "        self.linear_map = nn.Linear(2 * gru_hidden_size, 1)\n",
    "    \n",
    "    def forward(self, embed, state_char):\n",
    "        \n",
    "        embedded = self.look_up(embed)\n",
    "#         print embedded.size()\n",
    "        gru_vectors, state_char = self.char_gru(embedded.transpose(1,0), state_char)\n",
    "        # get the last gru vector\n",
    "        gru_vector = gru_vectors[-1]\n",
    "        # do a linear map\n",
    "        mapped_output = self.linear_map(gru_vector)\n",
    "        return mapped_output\n",
    "    \n",
    "    def init_hidden(self):\n",
    "        \n",
    "        return Variable(torch.zeros(2, self.batch_size, self.gru_hidden_size))"
   ]
  },
  {
   "cell_type": "markdown",
   "metadata": {},
   "source": [
    "### Fake input validation"
   ]
  },
  {
   "cell_type": "code",
   "execution_count": 49,
   "metadata": {
    "collapsed": false
   },
   "outputs": [],
   "source": [
    "fake_seq_batch = Variable(torch.from_numpy(np.random.randint(0,3, (64, 60))))"
   ]
  },
  {
   "cell_type": "code",
   "execution_count": 50,
   "metadata": {
    "collapsed": true
   },
   "outputs": [],
   "source": [
    "fake_model = CharRNN(batch_size= 64, num_tokens=4, embed_size=300, gru_hidden_size=100)"
   ]
  },
  {
   "cell_type": "code",
   "execution_count": 51,
   "metadata": {
    "collapsed": false
   },
   "outputs": [
    {
     "data": {
      "text/plain": [
       "CharRNN (\n",
       "  (look_up): Embedding(4, 300)\n",
       "  (char_gru): GRU(300, 100, bidirectional=True)\n",
       "  (linear_map): Linear (200 -> 1)\n",
       ")"
      ]
     },
     "execution_count": 51,
     "metadata": {},
     "output_type": "execute_result"
    }
   ],
   "source": [
    "fake_model"
   ]
  },
  {
   "cell_type": "code",
   "execution_count": 52,
   "metadata": {
    "collapsed": true
   },
   "outputs": [],
   "source": [
    "fake_state_char = fake_model.init_hidden()"
   ]
  },
  {
   "cell_type": "code",
   "execution_count": 53,
   "metadata": {
    "collapsed": false
   },
   "outputs": [
    {
     "data": {
      "text/plain": [
       "Variable containing:\n",
       "-0.2736\n",
       "-0.2537\n",
       "-0.1098\n",
       " 0.1242\n",
       " 0.0753\n",
       "-0.1373\n",
       " 0.0294\n",
       "-0.0499\n",
       "-0.0016\n",
       " 0.1113\n",
       " 0.0331\n",
       " 0.1487\n",
       "-0.0822\n",
       "-0.3036\n",
       "-0.2464\n",
       "-0.1634\n",
       "-0.1137\n",
       "-0.2822\n",
       "-0.2116\n",
       " 0.1234\n",
       " 0.1061\n",
       "-0.0399\n",
       "-0.2840\n",
       "-0.1661\n",
       "-0.0507\n",
       "-0.2350\n",
       " 0.1519\n",
       "-0.0992\n",
       " 0.0976\n",
       " 0.0823\n",
       "-0.0038\n",
       " 0.0521\n",
       "-0.1613\n",
       "-0.2759\n",
       "-0.0964\n",
       " 0.0461\n",
       " 0.0382\n",
       "-0.0489\n",
       " 0.1190\n",
       " 0.0608\n",
       " 0.0354\n",
       " 0.0344\n",
       " 0.1500\n",
       " 0.1919\n",
       " 0.0045\n",
       "-0.1330\n",
       "-0.1812\n",
       "-0.3520\n",
       "-0.0923\n",
       "-0.1117\n",
       "-0.1924\n",
       "-0.0264\n",
       " 0.0437\n",
       "-0.2183\n",
       " 0.0489\n",
       "-0.1921\n",
       "-0.0433\n",
       " 0.1571\n",
       " 0.0755\n",
       " 0.1516\n",
       "-0.0946\n",
       " 0.0361\n",
       " 0.2039\n",
       " 0.0805\n",
       "[torch.FloatTensor of size 64x1]"
      ]
     },
     "execution_count": 53,
     "metadata": {},
     "output_type": "execute_result"
    }
   ],
   "source": [
    "fake_model(fake_seq_batch, fake_state_char)"
   ]
  },
  {
   "cell_type": "markdown",
   "metadata": {},
   "source": [
    "Forward pass working!"
   ]
  },
  {
   "cell_type": "markdown",
   "metadata": {},
   "source": [
    "## Preparing data"
   ]
  },
  {
   "cell_type": "code",
   "execution_count": 54,
   "metadata": {
    "collapsed": false
   },
   "outputs": [
    {
     "data": {
      "text/html": [
       "<div>\n",
       "<table border=\"1\" class=\"dataframe\">\n",
       "  <thead>\n",
       "    <tr style=\"text-align: right;\">\n",
       "      <th></th>\n",
       "      <th>TF_Id</th>\n",
       "      <th>ArrayType</th>\n",
       "      <th>Sequence</th>\n",
       "      <th>Signal_Mean</th>\n",
       "      <th>Background_Mean</th>\n",
       "      <th>Signal_Median</th>\n",
       "      <th>Background_Median</th>\n",
       "      <th>Signal_Std</th>\n",
       "      <th>Background_Std</th>\n",
       "      <th>Flag</th>\n",
       "    </tr>\n",
       "  </thead>\n",
       "  <tbody>\n",
       "    <tr>\n",
       "      <th>1212840</th>\n",
       "      <td>Sox14</td>\n",
       "      <td>HK</td>\n",
       "      <td>AAAAAACAACAGGAGGGCATCATGGAGCTGTCCAGCCTGTGTGAAA...</td>\n",
       "      <td>4689.7988</td>\n",
       "      <td>728.5694</td>\n",
       "      <td>5097.0</td>\n",
       "      <td>421.5</td>\n",
       "      <td>1215.5156</td>\n",
       "      <td>795.3395</td>\n",
       "      <td>0</td>\n",
       "    </tr>\n",
       "    <tr>\n",
       "      <th>1212841</th>\n",
       "      <td>Sox14</td>\n",
       "      <td>HK</td>\n",
       "      <td>AAAAAACAGCCGGATCACAATTTTGCCGAGAGCGACCTGTGTGAAA...</td>\n",
       "      <td>7601.9057</td>\n",
       "      <td>1117.3750</td>\n",
       "      <td>8022.0</td>\n",
       "      <td>446.5</td>\n",
       "      <td>1220.7102</td>\n",
       "      <td>1297.0731</td>\n",
       "      <td>0</td>\n",
       "    </tr>\n",
       "    <tr>\n",
       "      <th>1212842</th>\n",
       "      <td>Sox14</td>\n",
       "      <td>HK</td>\n",
       "      <td>AAAAAACGTCCGGTACACCCCGTTCGGCGGCCCAGCCTGTGTGAAA...</td>\n",
       "      <td>3450.9868</td>\n",
       "      <td>460.4931</td>\n",
       "      <td>3810.5</td>\n",
       "      <td>264.5</td>\n",
       "      <td>980.1734</td>\n",
       "      <td>522.8422</td>\n",
       "      <td>0</td>\n",
       "    </tr>\n",
       "    <tr>\n",
       "      <th>1212843</th>\n",
       "      <td>Sox14</td>\n",
       "      <td>HK</td>\n",
       "      <td>AAAAAACTCTAGACCTTTAGCCCATCGTTGGCCAACCTGTGTGAAA...</td>\n",
       "      <td>6405.0585</td>\n",
       "      <td>852.9558</td>\n",
       "      <td>6765.0</td>\n",
       "      <td>354.0</td>\n",
       "      <td>1394.2091</td>\n",
       "      <td>1071.4765</td>\n",
       "      <td>0</td>\n",
       "    </tr>\n",
       "    <tr>\n",
       "      <th>1212844</th>\n",
       "      <td>Sox14</td>\n",
       "      <td>HK</td>\n",
       "      <td>AAAAAAGAACAACCGGATAACACCCTTACAGCACACCTGTGTGAAA...</td>\n",
       "      <td>7719.7729</td>\n",
       "      <td>631.4874</td>\n",
       "      <td>8300.0</td>\n",
       "      <td>288.5</td>\n",
       "      <td>2351.0661</td>\n",
       "      <td>923.0020</td>\n",
       "      <td>0</td>\n",
       "    </tr>\n",
       "  </tbody>\n",
       "</table>\n",
       "</div>"
      ],
      "text/plain": [
       "         TF_Id ArrayType                                           Sequence  \\\n",
       "1212840  Sox14        HK  AAAAAACAACAGGAGGGCATCATGGAGCTGTCCAGCCTGTGTGAAA...   \n",
       "1212841  Sox14        HK  AAAAAACAGCCGGATCACAATTTTGCCGAGAGCGACCTGTGTGAAA...   \n",
       "1212842  Sox14        HK  AAAAAACGTCCGGTACACCCCGTTCGGCGGCCCAGCCTGTGTGAAA...   \n",
       "1212843  Sox14        HK  AAAAAACTCTAGACCTTTAGCCCATCGTTGGCCAACCTGTGTGAAA...   \n",
       "1212844  Sox14        HK  AAAAAAGAACAACCGGATAACACCCTTACAGCACACCTGTGTGAAA...   \n",
       "\n",
       "         Signal_Mean  Background_Mean  Signal_Median  Background_Median  \\\n",
       "1212840    4689.7988         728.5694         5097.0              421.5   \n",
       "1212841    7601.9057        1117.3750         8022.0              446.5   \n",
       "1212842    3450.9868         460.4931         3810.5              264.5   \n",
       "1212843    6405.0585         852.9558         6765.0              354.0   \n",
       "1212844    7719.7729         631.4874         8300.0              288.5   \n",
       "\n",
       "         Signal_Std  Background_Std  Flag  \n",
       "1212840   1215.5156        795.3395     0  \n",
       "1212841   1220.7102       1297.0731     0  \n",
       "1212842    980.1734        522.8422     0  \n",
       "1212843   1394.2091       1071.4765     0  \n",
       "1212844   2351.0661        923.0020     0  "
      ]
     },
     "execution_count": 54,
     "metadata": {},
     "output_type": "execute_result"
    }
   ],
   "source": [
    "train.head()"
   ]
  },
  {
   "cell_type": "code",
   "execution_count": 55,
   "metadata": {
    "collapsed": true
   },
   "outputs": [],
   "source": [
    "vocab = {'A':0,'C':1,'T':2,'G':3}"
   ]
  },
  {
   "cell_type": "code",
   "execution_count": 60,
   "metadata": {
    "collapsed": false
   },
   "outputs": [],
   "source": [
    "sequence_encoded = [vocab[x] for x in list(train.Sequence.iloc[0])]"
   ]
  },
  {
   "cell_type": "code",
   "execution_count": 62,
   "metadata": {
    "collapsed": false
   },
   "outputs": [],
   "source": [
    "def iterate_minibatches(inputs, targets, batchsize, shuffle=False):\n",
    "    assert inputs.shape[0] == targets.shape[0]\n",
    "    if shuffle:\n",
    "        indices = np.arange(inputs.shape[0])\n",
    "        np.random.shuffle(indices)\n",
    "    for start_idx in range(0, inputs.shape[0] - batchsize + 1, batchsize):\n",
    "        if shuffle:\n",
    "            excerpt = indices[start_idx:start_idx + batchsize]\n",
    "        else:\n",
    "            excerpt = slice(start_idx, start_idx + batchsize)\n",
    "        yield inputs[excerpt], targets[excerpt]"
   ]
  },
  {
   "cell_type": "code",
   "execution_count": 92,
   "metadata": {
    "collapsed": true
   },
   "outputs": [],
   "source": [
    "def gen_minibatch(tokens, labels, mini_batch_size, shuffle= False):\n",
    "    for token, label in iterate_minibatches(tokens, labels, mini_batch_size, shuffle= False):\n",
    "        token = gen_sequences(token)\n",
    "        yield token, Variable(torch.from_numpy(label), requires_grad= False)"
   ]
  },
  {
   "cell_type": "code",
   "execution_count": 93,
   "metadata": {
    "collapsed": true
   },
   "outputs": [],
   "source": [
    "tokens = train.Sequence.values"
   ]
  },
  {
   "cell_type": "code",
   "execution_count": 94,
   "metadata": {
    "collapsed": false
   },
   "outputs": [],
   "source": [
    "labels = train.Signal_Mean.values"
   ]
  },
  {
   "cell_type": "code",
   "execution_count": 95,
   "metadata": {
    "collapsed": false
   },
   "outputs": [
    {
     "data": {
      "text/plain": [
       "array(['AAAAAACAACAGGAGGGCATCATGGAGCTGTCCAGCCTGTGTGAAATTGTTATCCGCTCT',\n",
       "       'AAAAAACAGCCGGATCACAATTTTGCCGAGAGCGACCTGTGTGAAATTGTTATCCGCTCT',\n",
       "       'AAAAAACGTCCGGTACACCCCGTTCGGCGGCCCAGCCTGTGTGAAATTGTTATCCGCTCT',\n",
       "       'AAAAAACTCTAGACCTTTAGCCCATCGTTGGCCAACCTGTGTGAAATTGTTATCCGCTCT',\n",
       "       'AAAAAAGAACAACCGGATAACACCCTTACAGCACACCTGTGTGAAATTGTTATCCGCTCT',\n",
       "       'AAAAAAGCTAAATCTCACTACTATCAACCACGTGCCCTGTGTGAAATTGTTATCCGCTCT',\n",
       "       'AAAAAATCGGCGCTCGCACAATAACACTTGGACCACCTGTGTGAAATTGTTATCCGCTCT',\n",
       "       'AAAAAATGGGCGTAAGCGTATTAGGTGGGAACCACCCTGTGTGAAATTGTTATCCGCTCT',\n",
       "       'AAAAACATATTTTTAAGCCCCATTGCGATCCAGCTCCTGTGTGAAATTGTTATCCGCTCT',\n",
       "       'AAAAACCCCAGAAAGGTTGACTAGAGTAAATCTCCCCTGTGTGAAATTGTTATCCGCTCT'], dtype=object)"
      ]
     },
     "execution_count": 95,
     "metadata": {},
     "output_type": "execute_result"
    }
   ],
   "source": [
    "tokens[0:10]"
   ]
  },
  {
   "cell_type": "code",
   "execution_count": 96,
   "metadata": {
    "collapsed": false
   },
   "outputs": [],
   "source": [
    "def gen_sequences(tokens):\n",
    "    encoded  = []\n",
    "    for t in tokens:\n",
    "        encoded.append([vocab[x] for x in list(t)])\n",
    "    return Variable(torch.from_numpy(np.array(encoded)))"
   ]
  },
  {
   "cell_type": "code",
   "execution_count": 97,
   "metadata": {
    "collapsed": false
   },
   "outputs": [],
   "source": [
    "# gen_sequences(tokens[0:10])"
   ]
  },
  {
   "cell_type": "code",
   "execution_count": 88,
   "metadata": {
    "collapsed": false
   },
   "outputs": [],
   "source": [
    "# g = gen_minibatch(tokens, labels, 64)"
   ]
  },
  {
   "cell_type": "code",
   "execution_count": 89,
   "metadata": {
    "collapsed": true
   },
   "outputs": [],
   "source": [
    "# t, l = next(g)"
   ]
  }
 ],
 "metadata": {
  "kernelspec": {
   "display_name": "Python 2",
   "language": "python",
   "name": "python2"
  },
  "language_info": {
   "codemirror_mode": {
    "name": "ipython",
    "version": 2
   },
   "file_extension": ".py",
   "mimetype": "text/x-python",
   "name": "python",
   "nbconvert_exporter": "python",
   "pygments_lexer": "ipython2",
   "version": "2.7.13"
  }
 },
 "nbformat": 4,
 "nbformat_minor": 2
}
