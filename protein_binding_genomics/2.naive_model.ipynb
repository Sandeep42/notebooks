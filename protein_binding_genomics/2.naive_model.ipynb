{
 "cells": [
  {
   "cell_type": "code",
   "execution_count": 2,
   "metadata": {
    "collapsed": false,
    "deletable": true,
    "editable": true
   },
   "outputs": [],
   "source": [
    "import numpy as np\n",
    "import pandas as pd\n",
    "import matplotlib.pyplot as plt\n",
    "%matplotlib inline\n",
    "plt.style.use('ggplot')\n",
    "#import seaborn as sns\n",
    "plt.rcParams['figure.figsize'] = 15, 12"
   ]
  },
  {
   "cell_type": "code",
   "execution_count": 3,
   "metadata": {
    "collapsed": true,
    "deletable": true,
    "editable": true
   },
   "outputs": [],
   "source": [
    "d = pd.read_csv('data/DREAM5_PBM_Data_TrainingSet.txt', sep='\\t')"
   ]
  },
  {
   "cell_type": "code",
   "execution_count": 4,
   "metadata": {
    "collapsed": false,
    "deletable": true,
    "editable": true
   },
   "outputs": [
    {
     "data": {
      "text/html": [
       "<div>\n",
       "<table border=\"1\" class=\"dataframe\">\n",
       "  <thead>\n",
       "    <tr style=\"text-align: right;\">\n",
       "      <th></th>\n",
       "      <th>TF_Id</th>\n",
       "      <th>ArrayType</th>\n",
       "      <th>Sequence</th>\n",
       "      <th>Signal_Mean</th>\n",
       "      <th>Background_Mean</th>\n",
       "      <th>Signal_Median</th>\n",
       "      <th>Background_Median</th>\n",
       "      <th>Signal_Std</th>\n",
       "      <th>Background_Std</th>\n",
       "      <th>Flag</th>\n",
       "    </tr>\n",
       "  </thead>\n",
       "  <tbody>\n",
       "    <tr>\n",
       "      <th>0</th>\n",
       "      <td>Cebpb</td>\n",
       "      <td>HK</td>\n",
       "      <td>AAAAAACAACAGGAGGGCATCATGGAGCTGTCCAGCCTGTGTGAAA...</td>\n",
       "      <td>1508.7972</td>\n",
       "      <td>264.8014</td>\n",
       "      <td>1557.5</td>\n",
       "      <td>183.0</td>\n",
       "      <td>393.2445</td>\n",
       "      <td>249.7754</td>\n",
       "      <td>0</td>\n",
       "    </tr>\n",
       "    <tr>\n",
       "      <th>1</th>\n",
       "      <td>Cebpb</td>\n",
       "      <td>HK</td>\n",
       "      <td>AAAAAACAGCCGGATCACAATTTTGCCGAGAGCGACCTGTGTGAAA...</td>\n",
       "      <td>13630.7324</td>\n",
       "      <td>371.0260</td>\n",
       "      <td>14858.0</td>\n",
       "      <td>245.0</td>\n",
       "      <td>6451.2436</td>\n",
       "      <td>445.4670</td>\n",
       "      <td>0</td>\n",
       "    </tr>\n",
       "    <tr>\n",
       "      <th>2</th>\n",
       "      <td>Cebpb</td>\n",
       "      <td>HK</td>\n",
       "      <td>AAAAAACGTCCGGTACACCCCGTTCGGCGGCCCAGCCTGTGTGAAA...</td>\n",
       "      <td>1523.0000</td>\n",
       "      <td>265.7928</td>\n",
       "      <td>1571.5</td>\n",
       "      <td>194.5</td>\n",
       "      <td>439.6682</td>\n",
       "      <td>211.7982</td>\n",
       "      <td>0</td>\n",
       "    </tr>\n",
       "    <tr>\n",
       "      <th>3</th>\n",
       "      <td>Cebpb</td>\n",
       "      <td>HK</td>\n",
       "      <td>AAAAAACTCTAGACCTTTAGCCCATCGTTGGCCAACCTGTGTGAAA...</td>\n",
       "      <td>4992.8461</td>\n",
       "      <td>430.4496</td>\n",
       "      <td>5150.0</td>\n",
       "      <td>233.0</td>\n",
       "      <td>1629.2899</td>\n",
       "      <td>507.5433</td>\n",
       "      <td>0</td>\n",
       "    </tr>\n",
       "    <tr>\n",
       "      <th>4</th>\n",
       "      <td>Cebpb</td>\n",
       "      <td>HK</td>\n",
       "      <td>AAAAAAGAACAACCGGATAACACCCTTACAGCACACCTGTGTGAAA...</td>\n",
       "      <td>3539.8117</td>\n",
       "      <td>449.4453</td>\n",
       "      <td>3823.5</td>\n",
       "      <td>226.5</td>\n",
       "      <td>1063.9028</td>\n",
       "      <td>551.7675</td>\n",
       "      <td>0</td>\n",
       "    </tr>\n",
       "  </tbody>\n",
       "</table>\n",
       "</div>"
      ],
      "text/plain": [
       "   TF_Id ArrayType                                           Sequence  \\\n",
       "0  Cebpb        HK  AAAAAACAACAGGAGGGCATCATGGAGCTGTCCAGCCTGTGTGAAA...   \n",
       "1  Cebpb        HK  AAAAAACAGCCGGATCACAATTTTGCCGAGAGCGACCTGTGTGAAA...   \n",
       "2  Cebpb        HK  AAAAAACGTCCGGTACACCCCGTTCGGCGGCCCAGCCTGTGTGAAA...   \n",
       "3  Cebpb        HK  AAAAAACTCTAGACCTTTAGCCCATCGTTGGCCAACCTGTGTGAAA...   \n",
       "4  Cebpb        HK  AAAAAAGAACAACCGGATAACACCCTTACAGCACACCTGTGTGAAA...   \n",
       "\n",
       "   Signal_Mean  Background_Mean  Signal_Median  Background_Median  Signal_Std  \\\n",
       "0    1508.7972         264.8014         1557.5              183.0    393.2445   \n",
       "1   13630.7324         371.0260        14858.0              245.0   6451.2436   \n",
       "2    1523.0000         265.7928         1571.5              194.5    439.6682   \n",
       "3    4992.8461         430.4496         5150.0              233.0   1629.2899   \n",
       "4    3539.8117         449.4453         3823.5              226.5   1063.9028   \n",
       "\n",
       "   Background_Std  Flag  \n",
       "0        249.7754     0  \n",
       "1        445.4670     0  \n",
       "2        211.7982     0  \n",
       "3        507.5433     0  \n",
       "4        551.7675     0  "
      ]
     },
     "execution_count": 4,
     "metadata": {},
     "output_type": "execute_result"
    }
   ],
   "source": [
    "d.head()"
   ]
  },
  {
   "cell_type": "markdown",
   "metadata": {
    "deletable": true,
    "editable": true
   },
   "source": [
    "The task is to predict the signal mean given the type of protein, array type and the sequence. I am pretty sure that one hot encoding the sequence would completely do an injustice to the richer dynamics of genes. \n",
    "\n",
    "An RNN, maybe? The sequence length is 60, would it be able to capture that long range dependencies?"
   ]
  },
  {
   "cell_type": "code",
   "execution_count": 5,
   "metadata": {
    "collapsed": false,
    "deletable": true,
    "editable": true
   },
   "outputs": [
    {
     "data": {
      "text/plain": [
       "0    1584778\n",
       "1      32342\n",
       "Name: Flag, dtype: int64"
      ]
     },
     "execution_count": 5,
     "metadata": {},
     "output_type": "execute_result"
    }
   ],
   "source": [
    "d.Flag.value_counts()"
   ]
  },
  {
   "cell_type": "code",
   "execution_count": 6,
   "metadata": {
    "collapsed": true,
    "deletable": true,
    "editable": true
   },
   "outputs": [],
   "source": [
    "d = d[d.Flag == 0]"
   ]
  },
  {
   "cell_type": "code",
   "execution_count": 7,
   "metadata": {
    "collapsed": false,
    "deletable": true,
    "editable": true
   },
   "outputs": [
    {
     "data": {
      "text/plain": [
       "(1584778, 10)"
      ]
     },
     "execution_count": 7,
     "metadata": {},
     "output_type": "execute_result"
    }
   ],
   "source": [
    "d.shape"
   ]
  },
  {
   "cell_type": "code",
   "execution_count": 8,
   "metadata": {
    "collapsed": true,
    "deletable": true,
    "editable": true
   },
   "outputs": [],
   "source": [
    "from sklearn.model_selection import train_test_split"
   ]
  },
  {
   "cell_type": "code",
   "execution_count": 9,
   "metadata": {
    "collapsed": true,
    "deletable": true,
    "editable": true
   },
   "outputs": [],
   "source": [
    "X = d[['TF_Id','ArrayType','Sequence']]\n",
    "y = d[['Signal_Mean']]"
   ]
  },
  {
   "cell_type": "code",
   "execution_count": 10,
   "metadata": {
    "collapsed": true,
    "deletable": true,
    "editable": true
   },
   "outputs": [],
   "source": [
    "X_train, X_test, y_train, y_test = train_test_split(X,y,test_size=0.3,random_state=42)"
   ]
  },
  {
   "cell_type": "code",
   "execution_count": 11,
   "metadata": {
    "collapsed": false,
    "deletable": true,
    "editable": true
   },
   "outputs": [
    {
     "data": {
      "text/plain": [
       "(1109344, 3)"
      ]
     },
     "execution_count": 11,
     "metadata": {},
     "output_type": "execute_result"
    }
   ],
   "source": [
    "X_train.shape"
   ]
  },
  {
   "cell_type": "code",
   "execution_count": 12,
   "metadata": {
    "collapsed": false,
    "deletable": true,
    "editable": true
   },
   "outputs": [
    {
     "data": {
      "text/plain": [
       "(1109344, 1)"
      ]
     },
     "execution_count": 12,
     "metadata": {},
     "output_type": "execute_result"
    }
   ],
   "source": [
    "y_train.shape"
   ]
  },
  {
   "cell_type": "markdown",
   "metadata": {
    "deletable": true,
    "editable": true
   },
   "source": [
    "How naive can you go? \n",
    "\n",
    "I am just ignoring all the sequence information, but I will count the statistics inside DNA sequence."
   ]
  },
  {
   "cell_type": "code",
   "execution_count": 13,
   "metadata": {
    "collapsed": false,
    "deletable": true,
    "editable": true
   },
   "outputs": [],
   "source": [
    "d['A_freq'] = d.Sequence.str.count('A')\n",
    "d['C_freq'] = d.Sequence.str.count('C')\n",
    "d['T_freq'] = d.Sequence.str.count('T')\n",
    "d['G_freq'] = d.Sequence.str.count('G')"
   ]
  },
  {
   "cell_type": "code",
   "execution_count": 14,
   "metadata": {
    "collapsed": false,
    "deletable": true,
    "editable": true
   },
   "outputs": [
    {
     "data": {
      "text/html": [
       "<div>\n",
       "<table border=\"1\" class=\"dataframe\">\n",
       "  <thead>\n",
       "    <tr style=\"text-align: right;\">\n",
       "      <th></th>\n",
       "      <th>TF_Id</th>\n",
       "      <th>ArrayType</th>\n",
       "      <th>Sequence</th>\n",
       "      <th>Signal_Mean</th>\n",
       "      <th>Background_Mean</th>\n",
       "      <th>Signal_Median</th>\n",
       "      <th>Background_Median</th>\n",
       "      <th>Signal_Std</th>\n",
       "      <th>Background_Std</th>\n",
       "      <th>Flag</th>\n",
       "      <th>A_freq</th>\n",
       "      <th>C_freq</th>\n",
       "      <th>T_freq</th>\n",
       "      <th>G_freq</th>\n",
       "    </tr>\n",
       "  </thead>\n",
       "  <tbody>\n",
       "    <tr>\n",
       "      <th>0</th>\n",
       "      <td>Cebpb</td>\n",
       "      <td>HK</td>\n",
       "      <td>AAAAAACAACAGGAGGGCATCATGGAGCTGTCCAGCCTGTGTGAAA...</td>\n",
       "      <td>1508.7972</td>\n",
       "      <td>264.8014</td>\n",
       "      <td>1557.5</td>\n",
       "      <td>183.0</td>\n",
       "      <td>393.2445</td>\n",
       "      <td>249.7754</td>\n",
       "      <td>0</td>\n",
       "      <td>18</td>\n",
       "      <td>13</td>\n",
       "      <td>14</td>\n",
       "      <td>15</td>\n",
       "    </tr>\n",
       "    <tr>\n",
       "      <th>1</th>\n",
       "      <td>Cebpb</td>\n",
       "      <td>HK</td>\n",
       "      <td>AAAAAACAGCCGGATCACAATTTTGCCGAGAGCGACCTGTGTGAAA...</td>\n",
       "      <td>13630.7324</td>\n",
       "      <td>371.0260</td>\n",
       "      <td>14858.0</td>\n",
       "      <td>245.0</td>\n",
       "      <td>6451.2436</td>\n",
       "      <td>445.4670</td>\n",
       "      <td>0</td>\n",
       "      <td>18</td>\n",
       "      <td>14</td>\n",
       "      <td>15</td>\n",
       "      <td>13</td>\n",
       "    </tr>\n",
       "    <tr>\n",
       "      <th>2</th>\n",
       "      <td>Cebpb</td>\n",
       "      <td>HK</td>\n",
       "      <td>AAAAAACGTCCGGTACACCCCGTTCGGCGGCCCAGCCTGTGTGAAA...</td>\n",
       "      <td>1523.0000</td>\n",
       "      <td>265.7928</td>\n",
       "      <td>1571.5</td>\n",
       "      <td>194.5</td>\n",
       "      <td>439.6682</td>\n",
       "      <td>211.7982</td>\n",
       "      <td>0</td>\n",
       "      <td>13</td>\n",
       "      <td>19</td>\n",
       "      <td>14</td>\n",
       "      <td>14</td>\n",
       "    </tr>\n",
       "    <tr>\n",
       "      <th>3</th>\n",
       "      <td>Cebpb</td>\n",
       "      <td>HK</td>\n",
       "      <td>AAAAAACTCTAGACCTTTAGCCCATCGTTGGCCAACCTGTGTGAAA...</td>\n",
       "      <td>4992.8461</td>\n",
       "      <td>430.4496</td>\n",
       "      <td>5150.0</td>\n",
       "      <td>233.0</td>\n",
       "      <td>1629.2899</td>\n",
       "      <td>507.5433</td>\n",
       "      <td>0</td>\n",
       "      <td>16</td>\n",
       "      <td>16</td>\n",
       "      <td>18</td>\n",
       "      <td>10</td>\n",
       "    </tr>\n",
       "    <tr>\n",
       "      <th>4</th>\n",
       "      <td>Cebpb</td>\n",
       "      <td>HK</td>\n",
       "      <td>AAAAAAGAACAACCGGATAACACCCTTACAGCACACCTGTGTGAAA...</td>\n",
       "      <td>3539.8117</td>\n",
       "      <td>449.4453</td>\n",
       "      <td>3823.5</td>\n",
       "      <td>226.5</td>\n",
       "      <td>1063.9028</td>\n",
       "      <td>551.7675</td>\n",
       "      <td>0</td>\n",
       "      <td>22</td>\n",
       "      <td>16</td>\n",
       "      <td>13</td>\n",
       "      <td>9</td>\n",
       "    </tr>\n",
       "  </tbody>\n",
       "</table>\n",
       "</div>"
      ],
      "text/plain": [
       "   TF_Id ArrayType                                           Sequence  \\\n",
       "0  Cebpb        HK  AAAAAACAACAGGAGGGCATCATGGAGCTGTCCAGCCTGTGTGAAA...   \n",
       "1  Cebpb        HK  AAAAAACAGCCGGATCACAATTTTGCCGAGAGCGACCTGTGTGAAA...   \n",
       "2  Cebpb        HK  AAAAAACGTCCGGTACACCCCGTTCGGCGGCCCAGCCTGTGTGAAA...   \n",
       "3  Cebpb        HK  AAAAAACTCTAGACCTTTAGCCCATCGTTGGCCAACCTGTGTGAAA...   \n",
       "4  Cebpb        HK  AAAAAAGAACAACCGGATAACACCCTTACAGCACACCTGTGTGAAA...   \n",
       "\n",
       "   Signal_Mean  Background_Mean  Signal_Median  Background_Median  Signal_Std  \\\n",
       "0    1508.7972         264.8014         1557.5              183.0    393.2445   \n",
       "1   13630.7324         371.0260        14858.0              245.0   6451.2436   \n",
       "2    1523.0000         265.7928         1571.5              194.5    439.6682   \n",
       "3    4992.8461         430.4496         5150.0              233.0   1629.2899   \n",
       "4    3539.8117         449.4453         3823.5              226.5   1063.9028   \n",
       "\n",
       "   Background_Std  Flag  A_freq  C_freq  T_freq  G_freq  \n",
       "0        249.7754     0      18      13      14      15  \n",
       "1        445.4670     0      18      14      15      13  \n",
       "2        211.7982     0      13      19      14      14  \n",
       "3        507.5433     0      16      16      18      10  \n",
       "4        551.7675     0      22      16      13       9  "
      ]
     },
     "execution_count": 14,
     "metadata": {},
     "output_type": "execute_result"
    }
   ],
   "source": [
    "d.head()"
   ]
  },
  {
   "cell_type": "code",
   "execution_count": 15,
   "metadata": {
    "collapsed": true,
    "deletable": true,
    "editable": true
   },
   "outputs": [],
   "source": [
    "# normalize\n",
    "d['A_freq'] = d.A_freq / 60\n",
    "d['C_freq'] = d.C_freq / 60\n",
    "d['T_freq'] = d.T_freq / 60\n",
    "d['G_freq'] = d.G_freq / 60"
   ]
  },
  {
   "cell_type": "code",
   "execution_count": 16,
   "metadata": {
    "collapsed": true,
    "deletable": true,
    "editable": true
   },
   "outputs": [],
   "source": [
    "d['TF_Id'] = d['TF_Id'].astype('category')\n",
    "d['ArrayType'] = d['ArrayType'].astype('category')"
   ]
  },
  {
   "cell_type": "code",
   "execution_count": 17,
   "metadata": {
    "collapsed": true,
    "deletable": true,
    "editable": true
   },
   "outputs": [],
   "source": [
    "d= pd.get_dummies(data=d, columns=['TF_Id', 'ArrayType'])"
   ]
  },
  {
   "cell_type": "code",
   "execution_count": 18,
   "metadata": {
    "collapsed": false,
    "deletable": true,
    "editable": true
   },
   "outputs": [
    {
     "data": {
      "text/html": [
       "<div>\n",
       "<table border=\"1\" class=\"dataframe\">\n",
       "  <thead>\n",
       "    <tr style=\"text-align: right;\">\n",
       "      <th></th>\n",
       "      <th>Sequence</th>\n",
       "      <th>Signal_Mean</th>\n",
       "      <th>Background_Mean</th>\n",
       "      <th>Signal_Median</th>\n",
       "      <th>Background_Median</th>\n",
       "      <th>Signal_Std</th>\n",
       "      <th>Background_Std</th>\n",
       "      <th>Flag</th>\n",
       "      <th>A_freq</th>\n",
       "      <th>C_freq</th>\n",
       "      <th>...</th>\n",
       "      <th>TF_Id_Mecp2</th>\n",
       "      <th>TF_Id_Nr2c1</th>\n",
       "      <th>TF_Id_Pou3f1</th>\n",
       "      <th>TF_Id_Sox14</th>\n",
       "      <th>TF_Id_Sp1</th>\n",
       "      <th>TF_Id_Tbx3</th>\n",
       "      <th>TF_Id_Tcf3</th>\n",
       "      <th>TF_Id_Zscan20</th>\n",
       "      <th>ArrayType_HK</th>\n",
       "      <th>ArrayType_ME</th>\n",
       "    </tr>\n",
       "  </thead>\n",
       "  <tbody>\n",
       "    <tr>\n",
       "      <th>0</th>\n",
       "      <td>AAAAAACAACAGGAGGGCATCATGGAGCTGTCCAGCCTGTGTGAAA...</td>\n",
       "      <td>1508.7972</td>\n",
       "      <td>264.8014</td>\n",
       "      <td>1557.5</td>\n",
       "      <td>183.0</td>\n",
       "      <td>393.2445</td>\n",
       "      <td>249.7754</td>\n",
       "      <td>0</td>\n",
       "      <td>0.300000</td>\n",
       "      <td>0.216667</td>\n",
       "      <td>...</td>\n",
       "      <td>0</td>\n",
       "      <td>0</td>\n",
       "      <td>0</td>\n",
       "      <td>0</td>\n",
       "      <td>0</td>\n",
       "      <td>0</td>\n",
       "      <td>0</td>\n",
       "      <td>0</td>\n",
       "      <td>1</td>\n",
       "      <td>0</td>\n",
       "    </tr>\n",
       "    <tr>\n",
       "      <th>1</th>\n",
       "      <td>AAAAAACAGCCGGATCACAATTTTGCCGAGAGCGACCTGTGTGAAA...</td>\n",
       "      <td>13630.7324</td>\n",
       "      <td>371.0260</td>\n",
       "      <td>14858.0</td>\n",
       "      <td>245.0</td>\n",
       "      <td>6451.2436</td>\n",
       "      <td>445.4670</td>\n",
       "      <td>0</td>\n",
       "      <td>0.300000</td>\n",
       "      <td>0.233333</td>\n",
       "      <td>...</td>\n",
       "      <td>0</td>\n",
       "      <td>0</td>\n",
       "      <td>0</td>\n",
       "      <td>0</td>\n",
       "      <td>0</td>\n",
       "      <td>0</td>\n",
       "      <td>0</td>\n",
       "      <td>0</td>\n",
       "      <td>1</td>\n",
       "      <td>0</td>\n",
       "    </tr>\n",
       "    <tr>\n",
       "      <th>2</th>\n",
       "      <td>AAAAAACGTCCGGTACACCCCGTTCGGCGGCCCAGCCTGTGTGAAA...</td>\n",
       "      <td>1523.0000</td>\n",
       "      <td>265.7928</td>\n",
       "      <td>1571.5</td>\n",
       "      <td>194.5</td>\n",
       "      <td>439.6682</td>\n",
       "      <td>211.7982</td>\n",
       "      <td>0</td>\n",
       "      <td>0.216667</td>\n",
       "      <td>0.316667</td>\n",
       "      <td>...</td>\n",
       "      <td>0</td>\n",
       "      <td>0</td>\n",
       "      <td>0</td>\n",
       "      <td>0</td>\n",
       "      <td>0</td>\n",
       "      <td>0</td>\n",
       "      <td>0</td>\n",
       "      <td>0</td>\n",
       "      <td>1</td>\n",
       "      <td>0</td>\n",
       "    </tr>\n",
       "    <tr>\n",
       "      <th>3</th>\n",
       "      <td>AAAAAACTCTAGACCTTTAGCCCATCGTTGGCCAACCTGTGTGAAA...</td>\n",
       "      <td>4992.8461</td>\n",
       "      <td>430.4496</td>\n",
       "      <td>5150.0</td>\n",
       "      <td>233.0</td>\n",
       "      <td>1629.2899</td>\n",
       "      <td>507.5433</td>\n",
       "      <td>0</td>\n",
       "      <td>0.266667</td>\n",
       "      <td>0.266667</td>\n",
       "      <td>...</td>\n",
       "      <td>0</td>\n",
       "      <td>0</td>\n",
       "      <td>0</td>\n",
       "      <td>0</td>\n",
       "      <td>0</td>\n",
       "      <td>0</td>\n",
       "      <td>0</td>\n",
       "      <td>0</td>\n",
       "      <td>1</td>\n",
       "      <td>0</td>\n",
       "    </tr>\n",
       "    <tr>\n",
       "      <th>4</th>\n",
       "      <td>AAAAAAGAACAACCGGATAACACCCTTACAGCACACCTGTGTGAAA...</td>\n",
       "      <td>3539.8117</td>\n",
       "      <td>449.4453</td>\n",
       "      <td>3823.5</td>\n",
       "      <td>226.5</td>\n",
       "      <td>1063.9028</td>\n",
       "      <td>551.7675</td>\n",
       "      <td>0</td>\n",
       "      <td>0.366667</td>\n",
       "      <td>0.266667</td>\n",
       "      <td>...</td>\n",
       "      <td>0</td>\n",
       "      <td>0</td>\n",
       "      <td>0</td>\n",
       "      <td>0</td>\n",
       "      <td>0</td>\n",
       "      <td>0</td>\n",
       "      <td>0</td>\n",
       "      <td>0</td>\n",
       "      <td>1</td>\n",
       "      <td>0</td>\n",
       "    </tr>\n",
       "  </tbody>\n",
       "</table>\n",
       "<p>5 rows × 34 columns</p>\n",
       "</div>"
      ],
      "text/plain": [
       "                                            Sequence  Signal_Mean  \\\n",
       "0  AAAAAACAACAGGAGGGCATCATGGAGCTGTCCAGCCTGTGTGAAA...    1508.7972   \n",
       "1  AAAAAACAGCCGGATCACAATTTTGCCGAGAGCGACCTGTGTGAAA...   13630.7324   \n",
       "2  AAAAAACGTCCGGTACACCCCGTTCGGCGGCCCAGCCTGTGTGAAA...    1523.0000   \n",
       "3  AAAAAACTCTAGACCTTTAGCCCATCGTTGGCCAACCTGTGTGAAA...    4992.8461   \n",
       "4  AAAAAAGAACAACCGGATAACACCCTTACAGCACACCTGTGTGAAA...    3539.8117   \n",
       "\n",
       "   Background_Mean  Signal_Median  Background_Median  Signal_Std  \\\n",
       "0         264.8014         1557.5              183.0    393.2445   \n",
       "1         371.0260        14858.0              245.0   6451.2436   \n",
       "2         265.7928         1571.5              194.5    439.6682   \n",
       "3         430.4496         5150.0              233.0   1629.2899   \n",
       "4         449.4453         3823.5              226.5   1063.9028   \n",
       "\n",
       "   Background_Std  Flag    A_freq    C_freq      ...       TF_Id_Mecp2  \\\n",
       "0        249.7754     0  0.300000  0.216667      ...                 0   \n",
       "1        445.4670     0  0.300000  0.233333      ...                 0   \n",
       "2        211.7982     0  0.216667  0.316667      ...                 0   \n",
       "3        507.5433     0  0.266667  0.266667      ...                 0   \n",
       "4        551.7675     0  0.366667  0.266667      ...                 0   \n",
       "\n",
       "   TF_Id_Nr2c1  TF_Id_Pou3f1  TF_Id_Sox14  TF_Id_Sp1  TF_Id_Tbx3  TF_Id_Tcf3  \\\n",
       "0            0             0            0          0           0           0   \n",
       "1            0             0            0          0           0           0   \n",
       "2            0             0            0          0           0           0   \n",
       "3            0             0            0          0           0           0   \n",
       "4            0             0            0          0           0           0   \n",
       "\n",
       "   TF_Id_Zscan20  ArrayType_HK  ArrayType_ME  \n",
       "0              0             1             0  \n",
       "1              0             1             0  \n",
       "2              0             1             0  \n",
       "3              0             1             0  \n",
       "4              0             1             0  \n",
       "\n",
       "[5 rows x 34 columns]"
      ]
     },
     "execution_count": 18,
     "metadata": {},
     "output_type": "execute_result"
    }
   ],
   "source": [
    "d.head()"
   ]
  },
  {
   "cell_type": "code",
   "execution_count": 19,
   "metadata": {
    "collapsed": false,
    "deletable": true,
    "editable": true
   },
   "outputs": [],
   "source": [
    "X = d.drop(['Signal_Mean','Sequence','Background_Mean','Signal_Median','Background_Median','Signal_Std','Background_Std','Flag'], axis=1)\n",
    "y = d[['Signal_Mean']]"
   ]
  },
  {
   "cell_type": "code",
   "execution_count": 20,
   "metadata": {
    "collapsed": true,
    "deletable": true,
    "editable": true
   },
   "outputs": [],
   "source": [
    "X_train, X_test, y_train, y_test = train_test_split(X,y,test_size=0.3,random_state=42)"
   ]
  },
  {
   "cell_type": "code",
   "execution_count": 21,
   "metadata": {
    "collapsed": false,
    "deletable": true,
    "editable": true
   },
   "outputs": [
    {
     "data": {
      "text/plain": [
       "Index([u'A_freq', u'C_freq', u'T_freq', u'G_freq', u'TF_Id_Cebpb',\n",
       "       u'TF_Id_Egr2', u'TF_Id_Esr1', u'TF_Id_Foxj2', u'TF_Id_Foxo1',\n",
       "       u'TF_Id_Foxo3', u'TF_Id_Foxo4', u'TF_Id_Foxp1', u'TF_Id_Foxp2',\n",
       "       u'TF_Id_Gmeb2', u'TF_Id_Irf2', u'TF_Id_Junb', u'TF_Id_Mecp2',\n",
       "       u'TF_Id_Nr2c1', u'TF_Id_Pou3f1', u'TF_Id_Sox14', u'TF_Id_Sp1',\n",
       "       u'TF_Id_Tbx3', u'TF_Id_Tcf3', u'TF_Id_Zscan20', u'ArrayType_HK',\n",
       "       u'ArrayType_ME'],\n",
       "      dtype='object')"
      ]
     },
     "execution_count": 21,
     "metadata": {},
     "output_type": "execute_result"
    }
   ],
   "source": [
    "X_train.columns"
   ]
  },
  {
   "cell_type": "code",
   "execution_count": 22,
   "metadata": {
    "collapsed": false,
    "deletable": true,
    "editable": true
   },
   "outputs": [
    {
     "data": {
      "text/plain": [
       "(1109344, 26)"
      ]
     },
     "execution_count": 22,
     "metadata": {},
     "output_type": "execute_result"
    }
   ],
   "source": [
    "X_train.shape"
   ]
  },
  {
   "cell_type": "code",
   "execution_count": 23,
   "metadata": {
    "collapsed": false,
    "deletable": true,
    "editable": true
   },
   "outputs": [
    {
     "data": {
      "text/plain": [
       "26"
      ]
     },
     "execution_count": 23,
     "metadata": {},
     "output_type": "execute_result"
    }
   ],
   "source": [
    "20 + 2 + 4"
   ]
  },
  {
   "cell_type": "markdown",
   "metadata": {
    "deletable": true,
    "editable": true
   },
   "source": [
    "## linear regression?"
   ]
  },
  {
   "cell_type": "code",
   "execution_count": 24,
   "metadata": {
    "collapsed": true,
    "deletable": true,
    "editable": true
   },
   "outputs": [],
   "source": [
    "from sklearn.linear_model import LinearRegression, Ridge, Lasso"
   ]
  },
  {
   "cell_type": "code",
   "execution_count": 25,
   "metadata": {
    "collapsed": true,
    "deletable": true,
    "editable": true
   },
   "outputs": [],
   "source": [
    "lr = LinearRegression()"
   ]
  },
  {
   "cell_type": "code",
   "execution_count": 26,
   "metadata": {
    "collapsed": false,
    "deletable": true,
    "editable": true
   },
   "outputs": [
    {
     "data": {
      "text/plain": [
       "LinearRegression(copy_X=True, fit_intercept=True, n_jobs=1, normalize=False)"
      ]
     },
     "execution_count": 26,
     "metadata": {},
     "output_type": "execute_result"
    }
   ],
   "source": [
    "lr.fit(X_train, y_train)"
   ]
  },
  {
   "cell_type": "code",
   "execution_count": 27,
   "metadata": {
    "collapsed": true,
    "deletable": true,
    "editable": true
   },
   "outputs": [],
   "source": [
    "from sklearn.metrics import r2_score"
   ]
  },
  {
   "cell_type": "code",
   "execution_count": 28,
   "metadata": {
    "collapsed": true,
    "deletable": true,
    "editable": true
   },
   "outputs": [],
   "source": [
    "r2_score?"
   ]
  },
  {
   "cell_type": "code",
   "execution_count": 29,
   "metadata": {
    "collapsed": false,
    "deletable": true,
    "editable": true
   },
   "outputs": [
    {
     "data": {
      "text/plain": [
       "0.29088274264024949"
      ]
     },
     "execution_count": 29,
     "metadata": {},
     "output_type": "execute_result"
    }
   ],
   "source": [
    "r2_score(y_test, lr.predict(X_test))"
   ]
  },
  {
   "cell_type": "code",
   "execution_count": 30,
   "metadata": {
    "collapsed": true,
    "deletable": true,
    "editable": true
   },
   "outputs": [],
   "source": [
    "param = {'alpha':[0.1,0.06,0.07,0.08,0.09,0.01,0.02,0.03,0.04,0.05,0.5,1,10,100,1000]}"
   ]
  },
  {
   "cell_type": "code",
   "execution_count": 31,
   "metadata": {
    "collapsed": true,
    "deletable": true,
    "editable": true
   },
   "outputs": [],
   "source": [
    "from sklearn.model_selection import GridSearchCV"
   ]
  },
  {
   "cell_type": "code",
   "execution_count": 74,
   "metadata": {
    "collapsed": false,
    "deletable": true,
    "editable": true
   },
   "outputs": [],
   "source": [
    "lrclf = GridSearchCV(Ridge(),param_grid=param,n_jobs=-1,cv=10)"
   ]
  },
  {
   "cell_type": "code",
   "execution_count": 75,
   "metadata": {
    "collapsed": false,
    "deletable": true,
    "editable": true,
    "scrolled": true
   },
   "outputs": [
    {
     "data": {
      "text/plain": [
       "GridSearchCV(cv=10, error_score='raise',\n",
       "       estimator=Ridge(alpha=1.0, copy_X=True, fit_intercept=True, max_iter=None,\n",
       "   normalize=False, random_state=None, solver='auto', tol=0.001),\n",
       "       fit_params={}, iid=True, n_jobs=-1,\n",
       "       param_grid={'alpha': [0.1, 0.06, 0.07, 0.08, 0.09, 0.01, 0.02, 0.03, 0.04, 0.05, 0.5, 1, 10, 100, 1000]},\n",
       "       pre_dispatch='2*n_jobs', refit=True, return_train_score=True,\n",
       "       scoring=None, verbose=0)"
      ]
     },
     "execution_count": 75,
     "metadata": {},
     "output_type": "execute_result"
    }
   ],
   "source": [
    "lrclf.fit(X_train,y_train)"
   ]
  },
  {
   "cell_type": "code",
   "execution_count": 76,
   "metadata": {
    "collapsed": false,
    "deletable": true,
    "editable": true
   },
   "outputs": [
    {
     "data": {
      "text/plain": [
       "0.29116334681808764"
      ]
     },
     "execution_count": 76,
     "metadata": {},
     "output_type": "execute_result"
    }
   ],
   "source": [
    "lrclf.best_score_"
   ]
  },
  {
   "cell_type": "code",
   "execution_count": 77,
   "metadata": {
    "collapsed": false,
    "deletable": true,
    "editable": true
   },
   "outputs": [
    {
     "data": {
      "text/plain": [
       "{'alpha': 0.1}"
      ]
     },
     "execution_count": 77,
     "metadata": {},
     "output_type": "execute_result"
    }
   ],
   "source": [
    "lrclf.best_params_"
   ]
  },
  {
   "cell_type": "code",
   "execution_count": null,
   "metadata": {
    "collapsed": true,
    "deletable": true,
    "editable": true
   },
   "outputs": [],
   "source": [
    "lrclf = GridSearchCV(Lasso(),param_grid=param,n_jobs=-1,cv=10)"
   ]
  },
  {
   "cell_type": "code",
   "execution_count": null,
   "metadata": {
    "collapsed": true,
    "deletable": true,
    "editable": true
   },
   "outputs": [],
   "source": [
    "lrclf.fit(X_train,y_train)"
   ]
  },
  {
   "cell_type": "code",
   "execution_count": null,
   "metadata": {
    "collapsed": false,
    "deletable": true,
    "editable": true
   },
   "outputs": [],
   "source": [
    "lrclf.best_score_"
   ]
  },
  {
   "cell_type": "code",
   "execution_count": null,
   "metadata": {
    "collapsed": true,
    "deletable": true,
    "editable": true
   },
   "outputs": [],
   "source": [
    "lrclf.best_params_"
   ]
  },
  {
   "cell_type": "markdown",
   "metadata": {
    "deletable": true,
    "editable": true
   },
   "source": [
    "Well, that wasn't bad for a naive model. The competetion had around 0.6 on final validation set."
   ]
  }
 ],
 "metadata": {
  "kernelspec": {
   "display_name": "Python 2",
   "language": "python",
   "name": "python2"
  },
  "language_info": {
   "codemirror_mode": {
    "name": "ipython",
    "version": 2
   },
   "file_extension": ".py",
   "mimetype": "text/x-python",
   "name": "python",
   "nbconvert_exporter": "python",
   "pygments_lexer": "ipython2",
   "version": "2.7.13"
  }
 },
 "nbformat": 4,
 "nbformat_minor": 2
}
